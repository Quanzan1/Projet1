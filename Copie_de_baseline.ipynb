{
  "cells": [
    {
      "cell_type": "markdown",
      "metadata": {
        "id": "view-in-github",
        "colab_type": "text"
      },
      "source": [
        "<a href=\"https://colab.research.google.com/github/Quanzan1/Projet1/blob/main/Copie_de_baseline.ipynb\" target=\"_parent\"><img src=\"https://colab.research.google.com/assets/colab-badge.svg\" alt=\"Open In Colab\"/></a>"
      ]
    },
    {
      "cell_type": "markdown",
      "source": [
        "## Import des libraries"
      ],
      "metadata": {
        "collapsed": false,
        "id": "xBvdio9IE1TB"
      }
    },
    {
      "cell_type": "code",
      "execution_count": 3,
      "outputs": [],
      "source": [
        "import numpy as np\n",
        "import torch\n",
        "import torch.nn as nn\n",
        "import os\n",
        "from scipy.io import wavfile"
      ],
      "metadata": {
        "id": "aFOfNAFFE1TG"
      }
    },
    {
      "cell_type": "markdown",
      "source": [
        "## Téléchargement du dataset"
      ],
      "metadata": {
        "collapsed": false,
        "id": "8DDcCG-BE1TH"
      }
    },
    {
      "cell_type": "code",
      "execution_count": 2,
      "outputs": [
        {
          "output_type": "stream",
          "name": "stdout",
          "text": [
            "Downloading...\n",
            "From: https://drive.google.com/uc?id=1Q3sbordKpx65ExOvqtM4fif7rDXhIXwS\n",
            "To: /content/datasetaudio.zip\n",
            "100% 382M/382M [00:02<00:00, 152MB/s]\n",
            "Archive:  datasetaudio.zip\n",
            "replace train/y_train/2168-a.wav? [y]es, [n]o, [A]ll, [N]one, [r]ename: y\n",
            "  inflating: train/y_train/2168-a.wav  \n",
            "replace train/y_train/71-a.wav? [y]es, [n]o, [A]ll, [N]one, [r]ename: a\n",
            "error:  invalid response [a]\n",
            "replace train/y_train/71-a.wav? [y]es, [n]o, [A]ll, [N]one, [r]ename: y,a\n",
            "  inflating: train/y_train/71-a.wav  \n",
            "replace train/y_train/3948-b.wav? [y]es, [n]o, [A]ll, [N]one, [r]ename: n\n",
            "replace train/y_train/1238-b.wav? [y]es, [n]o, [A]ll, [N]one, [r]ename: y a\n",
            "  inflating: train/y_train/1238-b.wav  \n",
            "replace train/y_train/34-a.wav? [y]es, [n]o, [A]ll, [N]one, [r]ename: a\n",
            "error:  invalid response [a]\n",
            "replace train/y_train/34-a.wav? [y]es, [n]o, [A]ll, [N]one, [r]ename: y a\n",
            "  inflating: train/y_train/34-a.wav  \n",
            "replace train/y_train/2948-b.wav? [y]es, [n]o, [A]ll, [N]one, [r]ename: "
          ]
        }
      ],
      "source": [
        "!gdown 1Q3sbordKpx65ExOvqtM4fif7rDXhIXwS\n",
        "!unzip datasetaudio.zip"
      ],
      "metadata": {
        "id": "qRl7xvE1E1TH",
        "outputId": "452fb8dd-b662-46b4-e3f9-8bdf66d41a4b",
        "colab": {
          "base_uri": "https://localhost:8080/"
        }
      }
    },
    {
      "cell_type": "markdown",
      "source": [
        "Sinon, le lien est ici: https://drive.google.com/file/d/1Q3sbordKpx65ExOvqtM4fif7rDXhIXwS/view?usp=sharing"
      ],
      "metadata": {
        "collapsed": false,
        "id": "eJxJ2WZtE1TI"
      }
    },
    {
      "cell_type": "markdown",
      "source": [
        "## Load le dataset\n",
        "\n",
        "### Load le dataset de train\n",
        "Pour load un fichier .wav, on utilise la fonction `wavfile.read()` de `scipy.io` qui nous retourne un tuple `(samplerate, data)`. `data` est un array numpy de dimension 1, contenant les valeurs du signal audio. Le nombre d'échantillons par seconde pour nos données est de 4000, donc chaque fichier .wav contient 6000 valeurs car la durée du signal est de 1.5 secondes. `data` est donc de shape `(6000,)`.\n",
        "\n",
        "Il y a 4096 fichiers .wav dans le dossier `train/x_train` et 2048 fichiers .wav dans le dossier `test/x_test`. Donc on peut créer un array numpy de shape `(4096, 6000)` pour les données d'entraînement et un array numpy de shape `(2048, 6000)` pour les données de test."
      ],
      "metadata": {
        "collapsed": false,
        "id": "cPyxcartE1TI"
      }
    },
    {
      "cell_type": "code",
      "execution_count": 4,
      "outputs": [
        {
          "output_type": "stream",
          "name": "stdout",
          "text": [
            "(4096, 6000)\n",
            "(4096, 6000)\n",
            "(4096, 6000)\n"
          ]
        }
      ],
      "source": [
        "X_train = []\n",
        "Y1_train = []\n",
        "Y2_train = []\n",
        "\n",
        "N_TRAIN = 4096\n",
        "\n",
        "for i in range(N_TRAIN):\n",
        "    x = wavfile.read(f\"train/x_train/{i}.wav\")[1]\n",
        "    y1 = wavfile.read(f\"train/y_train/{i}-a.wav\")[1]\n",
        "    y2 = wavfile.read(f\"train/y_train/{i}-b.wav\")[1]\n",
        "\n",
        "    X_train.append(x)\n",
        "    Y1_train.append(y1)\n",
        "    Y2_train.append(y2)\n",
        "\n",
        "X_train = np.array(X_train)\n",
        "Y1_train = np.array(Y1_train)\n",
        "Y2_train = np.array(Y2_train)\n",
        "\n",
        "print(X_train.shape)\n",
        "print(Y1_train.shape)\n",
        "print(Y2_train.shape)"
      ],
      "metadata": {
        "colab": {
          "base_uri": "https://localhost:8080/"
        },
        "id": "J3Yk5YxmE1TI",
        "outputId": "bc6ee177-50b8-4452-ce5a-a854b82c0290"
      }
    },
    {
      "cell_type": "markdown",
      "source": [
        "### Load le dataset de test"
      ],
      "metadata": {
        "collapsed": false,
        "id": "xUSBhIGRE1TJ"
      }
    },
    {
      "cell_type": "code",
      "execution_count": 5,
      "outputs": [
        {
          "output_type": "stream",
          "name": "stdout",
          "text": [
            "(512, 6000)\n"
          ]
        }
      ],
      "source": [
        "X_test = []\n",
        "\n",
        "N_TEST = 512\n",
        "\n",
        "for i in range(N_TEST):\n",
        "    x = wavfile.read(f\"test/x_test/{i}.wav\")[1]\n",
        "    X_test.append(x)\n",
        "\n",
        "X_test = np.array(X_test)\n",
        "\n",
        "print(X_test.shape)"
      ],
      "metadata": {
        "colab": {
          "base_uri": "https://localhost:8080/"
        },
        "id": "aV-kx9CJE1TK",
        "outputId": "10126c93-6331-4c90-bd1f-c2c7592f96a2"
      }
    },
    {
      "cell_type": "markdown",
      "source": [
        "## Lecture des données"
      ],
      "metadata": {
        "collapsed": false,
        "id": "clNGtVtnE1TK"
      }
    },
    {
      "cell_type": "code",
      "execution_count": 6,
      "outputs": [],
      "source": [
        "import IPython.display as ipd\n",
        "\n",
        "SAMPLERATE = 4000"
      ],
      "metadata": {
        "id": "MyHkXzuIE1TK"
      }
    },
    {
      "cell_type": "code",
      "execution_count": 5,
      "outputs": [
        {
          "output_type": "execute_result",
          "data": {
            "text/plain": [
              "<IPython.lib.display.Audio object>"
            ],
            "text/html": [
              "\n",
              "                <audio  controls=\"controls\" >\n",
              "                    <source src=\"data:audio/wav;base64,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\" type=\"audio/wav\" />\n",
              "                    Your browser does not support the audio element.\n",
              "                </audio>\n",
              "              "
            ]
          },
          "metadata": {},
          "execution_count": 5
        }
      ],
      "source": [
        "\n",
        "ipd.Audio(X_train[0], rate=SAMPLERATE)"
      ],
      "metadata": {
        "colab": {
          "base_uri": "https://localhost:8080/",
          "height": 75
        },
        "id": "YQI0VeROE1TK",
        "outputId": "c96e033a-37d3-43c8-8559-b53a56c95147"
      }
    },
    {
      "cell_type": "code",
      "execution_count": 7,
      "outputs": [
        {
          "output_type": "execute_result",
          "data": {
            "text/plain": [
              "<IPython.lib.display.Audio object>"
            ],
            "text/html": [
              "\n",
              "                <audio  controls=\"controls\" >\n",
              "                    <source src=\"data:audio/wav;base64,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\" type=\"audio/wav\" />\n",
              "                    Your browser does not support the audio element.\n",
              "                </audio>\n",
              "              "
            ]
          },
          "metadata": {},
          "execution_count": 7
        }
      ],
      "source": [
        "ipd.Audio(Y1_train[0], rate=SAMPLERATE)"
      ],
      "metadata": {
        "colab": {
          "base_uri": "https://localhost:8080/",
          "height": 75
        },
        "id": "d-w8hR-ME1TL",
        "outputId": "48f0548e-cb87-419c-dac8-a0f0d82c2e9c"
      }
    },
    {
      "cell_type": "code",
      "execution_count": 8,
      "outputs": [
        {
          "output_type": "execute_result",
          "data": {
            "text/plain": [
              "<IPython.lib.display.Audio object>"
            ],
            "text/html": [
              "\n",
              "                <audio  controls=\"controls\" >\n",
              "                    <source src=\"data:audio/wav;base64,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\" type=\"audio/wav\" />\n",
              "                    Your browser does not support the audio element.\n",
              "                </audio>\n",
              "              "
            ]
          },
          "metadata": {},
          "execution_count": 8
        }
      ],
      "source": [
        "ipd.Audio(Y2_train[0], rate=SAMPLERATE)"
      ],
      "metadata": {
        "colab": {
          "base_uri": "https://localhost:8080/",
          "height": 75
        },
        "id": "WPstIGhnE1TL",
        "outputId": "3fc7ceb3-55ff-4682-f6ac-0d5a3abaaa56"
      }
    },
    {
      "cell_type": "markdown",
      "source": [
        "## Batch les données"
      ],
      "metadata": {
        "collapsed": false,
        "id": "GeEixPgNE1TM"
      }
    },
    {
      "cell_type": "code",
      "execution_count": 7,
      "outputs": [
        {
          "output_type": "stream",
          "name": "stdout",
          "text": [
            "(256, 16, 6000)\n",
            "(256, 16, 6000)\n",
            "(256, 16, 6000)\n"
          ]
        }
      ],
      "source": [
        "batch_size = 16\n",
        "X_train_reshaped = X_train.reshape(-1, batch_size, 6000)\n",
        "Y1_train_reshaped = Y1_train.reshape(-1, batch_size, 6000)\n",
        "Y2_train_reshaped = Y2_train.reshape(-1, batch_size, 6000)\n",
        "\n",
        "print(X_train_reshaped.shape)\n",
        "print(Y1_train_reshaped.shape)\n",
        "print(Y2_train_reshaped.shape)"
      ],
      "metadata": {
        "colab": {
          "base_uri": "https://localhost:8080/"
        },
        "id": "BQI0c5SuE1TM",
        "outputId": "fba97c02-334f-44d4-836d-1fae348a8695"
      }
    },
    {
      "cell_type": "markdown",
      "source": [
        "## Convertir les données en torch.tensor"
      ],
      "metadata": {
        "collapsed": false,
        "id": "XnAElbtRE1TM"
      }
    },
    {
      "cell_type": "code",
      "execution_count": 7,
      "outputs": [],
      "source": [
        "X_train_torch = torch.from_numpy(X_train_reshaped).float()\n",
        "Y1_train_torch = torch.from_numpy(Y1_train_reshaped).float()\n",
        "Y2_train_torch = torch.from_numpy(Y2_train_reshaped).float()"
      ],
      "metadata": {
        "id": "9bdbjUkWE1TN"
      }
    },
    {
      "cell_type": "markdown",
      "source": [
        "## Faire la même chose pour le dataset de test"
      ],
      "metadata": {
        "collapsed": false,
        "id": "1FNjFObBE1TN"
      }
    },
    {
      "cell_type": "code",
      "execution_count": 8,
      "outputs": [
        {
          "output_type": "stream",
          "name": "stdout",
          "text": [
            "torch.Size([32, 16, 6000])\n"
          ]
        }
      ],
      "source": [
        "X_test_reshaped = X_test.reshape(-1, batch_size, 6000)\n",
        "X_test_torch = torch.from_numpy(X_test_reshaped).float()\n",
        "\n",
        "print(X_test_torch.shape)"
      ],
      "metadata": {
        "colab": {
          "base_uri": "https://localhost:8080/"
        },
        "id": "9HynKreAE1TN",
        "outputId": "6c982330-5de3-4a33-a02d-6984f13b40f6"
      }
    },
    {
      "cell_type": "markdown",
      "source": [
        "## Créer le modèle"
      ],
      "metadata": {
        "collapsed": false,
        "id": "dditrgIFE1TO"
      }
    },
    {
      "cell_type": "code",
      "execution_count": 8,
      "outputs": [],
      "source": [
        "class Baseline(nn.Module):\n",
        "    def __init__(self):\n",
        "        super().__init__()\n",
        "        self.linear1 = nn.Linear(16*6000, 6000*16)\n",
        "        self.ReLU = nn.ReLU()\n",
        "        self.conv1 = nn.Conv1d(1, 32, 5)\n",
        "        self.conv2 = nn.Conv1d(32, 64, 5)\n",
        "\n",
        "        self.padding = nn.ReplicationPad1d(2)\n",
        "\n",
        "    def forward(self, x):\n",
        "        # x: (batch_size, 6000)\n",
        "        x = x.unsqueezed(1)\n",
        "        x = self.conv1(x)\n",
        "        x = self.padding(x)\n",
        "        x = self.ReLU(x)\n",
        "        x = self.conv2(x)\n",
        "        x = self.padding(x)\n",
        "        x = self.ReLU(x)\n",
        "\n",
        "\n",
        "\n",
        "        x = nn.Flatten(1,2)\n",
        "\n",
        "\n",
        "        x1, x2 = x[:, :6000], x[:, 6000:]\n",
        "        # x1: (batch_size, 6000)\n",
        "        # x2: (batch_size, 6000)\n",
        "\n",
        "        return x1, x2"
      ],
      "metadata": {
        "id": "tHo_cqBxE1TO"
      }
    },
    {
      "cell_type": "markdown",
      "source": [
        "## Boucle d'entraînement"
      ],
      "metadata": {
        "collapsed": false,
        "id": "nXub2ML_E1TO"
      }
    },
    {
      "cell_type": "code",
      "execution_count": null,
      "outputs": [],
      "source": [
        "device = torch.device(\"cuda\" if torch.cuda.is_available() else \"cpu\")\n",
        "loss_fn = nn.MSELoss()\n",
        "epoque = 4\n",
        "model = Baseline().to(device)\n",
        "optimizer = torch.optim.Adam(model.parameters(), lr=0.0001)\n",
        "\n",
        "for j in range(epoque):\n",
        "  for i in range(len(X_train_torch)):\n",
        "      optimizer.zero_grad()\n",
        "      X = X_train_torch[i].to(device)\n",
        "      Y1 = Y1_train_torch[i].to(device)\n",
        "      Y2 = Y2_train_torch[i].to(device)\n",
        "      print(Y1.shape)\n",
        "      break\n",
        "      Y1_pred, Y2_pred = model(X)\n",
        "      loss = loss_fn(Y1_pred, Y1) + loss_fn(Y2_pred, Y2)\n",
        "\n",
        "      loss.backward()\n",
        "      optimizer.step()\n",
        "      if i % 10 == 0:\n",
        "          print(f\"Loss {loss.item():.4f}\")"
      ],
      "metadata": {
        "id": "j6HeK1_UE1TO"
      }
    },
    {
      "cell_type": "markdown",
      "source": [
        "## Prédiction"
      ],
      "metadata": {
        "collapsed": false,
        "id": "i5BMfkzUE1TP"
      }
    },
    {
      "cell_type": "code",
      "execution_count": null,
      "outputs": [],
      "source": [
        "model.eval()\n",
        "\n",
        "predictions = np.array([])\n",
        "predictions = predictions.reshape(0, 2, 6000)\n",
        "\n",
        "for i in range(len(X_test_torch)):\n",
        "    X = X_test_torch[i].to(device)\n",
        "    with torch.no_grad():\n",
        "        Y1_pred, Y2_pred = model(X)\n",
        "        Y_pred = torch.stack([Y1_pred, Y2_pred], dim=1)\n",
        "    predictions = np.concatenate([predictions, Y_pred.cpu().numpy()])\n",
        "\n",
        "np.save(\"predictions.npy\", predictions)\n",
        "!zip predictions.zip predictions.npy"
      ],
      "metadata": {
        "id": "_RCPOhiHE1TP"
      }
    }
  ],
  "metadata": {
    "kernelspec": {
      "display_name": "Python 3",
      "name": "python3"
    },
    "language_info": {
      "codemirror_mode": {
        "name": "ipython",
        "version": 2
      },
      "file_extension": ".py",
      "mimetype": "text/x-python",
      "name": "python",
      "nbconvert_exporter": "python",
      "pygments_lexer": "ipython2",
      "version": "2.7.6"
    },
    "colab": {
      "provenance": [],
      "gpuType": "T4",
      "include_colab_link": true
    },
    "accelerator": "GPU"
  },
  "nbformat": 4,
  "nbformat_minor": 0
}